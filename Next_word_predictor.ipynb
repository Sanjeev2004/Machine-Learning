{
 "cells": [
  {
   "cell_type": "markdown",
   "id": "35d45287",
   "metadata": {},
   "source": []
  }
 ],
 "metadata": {
  "language_info": {
   "name": "python"
  }
 },
 "nbformat": 4,
 "nbformat_minor": 5
}
