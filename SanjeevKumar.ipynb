{
 "cells": [
  {
   "cell_type": "code",
   "execution_count": 2,
   "metadata": {},
   "outputs": [],
   "source": [
    "import numpy as np\n",
    "import pandas as pd\n",
    "from collections import Counter\n",
    "from sklearn.model_selection import train_test_split\n",
    "from sklearn.metrics import accuracy_score\n",
    "\n",
    "# Load dataset (assuming you have downloaded the file)\n",
    "data = pd.read_csv('Iris.csv').iloc[:, 1:]  # Ignore the first column (ID)\n",
    "\n",
    "X = data.iloc[:, :-1].values  # Features\n",
    "y = data.iloc[:, -1].values   # Target\n",
    "\n",
    "# Split the dataset: 90% training and 10% testing\n",
    "X_train, X_test, y_train, y_test = train_test_split(X, y, test_size=0.1, random_state=42)\n"
   ]
  },
  {
   "cell_type": "code",
   "execution_count": 3,
   "metadata": {},
   "outputs": [],
   "source": [
    "# Step 1: Define the function to compute Euclidean distance\n",
    "def euclidean_distance(point1, point2):\n",
    "    return np.sqrt(np.sum((np.array(point1) - np.array(point2))**2))\n",
    "\n",
    "# Step 2: Define the KNN function\n",
    "def knn_predict(X_train, y_train, test_point, k=3):\n",
    "    distances = []\n",
    "    for i in range(len(X_train)):\n",
    "        distance = euclidean_distance(X_train[i], test_point)\n",
    "        distances.append((distance, y_train[i]))  # Append as a tuple (distance, label)\n",
    "    \n",
    "    # Sort by distance (ascending order) and select the k nearest neighbors\n",
    "    distances.sort(key=lambda x: x[0])\n",
    "    k_nearest_neighbors = distances[:k]\n",
    "    \n",
    "    # Extract the labels of the k nearest neighbors\n",
    "    k_nearest_labels = [label for (_, label) in k_nearest_neighbors]\n",
    "    \n",
    "    # Predict the most common label\n",
    "    prediction = Counter(k_nearest_labels).most_common(1)[0][0]\n",
    "    return prediction\n",
    "\n",
    "# Step 3: Prediction for all test points\n",
    "def knn_predict_all(X_train, y_train, X_test, k=3):\n",
    "    predictions = []\n",
    "    for test_point in X_test:\n",
    "        prediction = knn_predict(X_train, y_train, test_point, k)\n",
    "        predictions.append(prediction)\n",
    "    return predictions\n"
   ]
  },
  {
   "cell_type": "code",
   "execution_count": 4,
   "metadata": {},
   "outputs": [
    {
     "name": "stdout",
     "output_type": "stream",
     "text": [
      "K=1, Accuracy=1.0\n",
      "K=2, Accuracy=1.0\n",
      "K=3, Accuracy=1.0\n",
      "K=4, Accuracy=1.0\n",
      "K=5, Accuracy=1.0\n",
      "K=6, Accuracy=1.0\n",
      "K=7, Accuracy=0.9333333333333333\n",
      "K=8, Accuracy=1.0\n",
      "K=9, Accuracy=1.0\n",
      "K=10, Accuracy=1.0\n",
      "Best K: 1 with Accuracy: 1.0\n"
     ]
    }
   ],
   "source": [
    "# Step 4: Grid search to find optimal value of k\n",
    "def grid_search_k(X_train, y_train, X_test, y_test, k_values):\n",
    "    best_k = k_values[0]\n",
    "    best_accuracy = 0\n",
    "    \n",
    "    for k in k_values:\n",
    "        predictions = knn_predict_all(X_train, y_train, X_test, k)\n",
    "        accuracy = accuracy_score(y_test, predictions)\n",
    "        \n",
    "        if accuracy > best_accuracy:\n",
    "            best_accuracy = accuracy\n",
    "            best_k = k\n",
    "            \n",
    "        print(f\"K={k}, Accuracy={accuracy}\")\n",
    "    \n",
    "    return best_k, best_accuracy\n",
    "\n",
    "# Try different values of k (e.g., from 1 to 10)\n",
    "k_values = list(range(1, 11))\n",
    "\n",
    "# Perform Grid Search\n",
    "best_k, best_accuracy = grid_search_k(X_train, y_train, X_test, y_test, k_values)\n",
    "\n",
    "print(f\"Best K: {best_k} with Accuracy: {best_accuracy}\")\n"
   ]
  },
  {
   "cell_type": "code",
   "execution_count": null,
   "metadata": {},
   "outputs": [],
   "source": []
  }
 ],
 "metadata": {
  "kernelspec": {
   "display_name": "Python 3",
   "language": "python",
   "name": "python3"
  },
  "language_info": {
   "codemirror_mode": {
    "name": "ipython",
    "version": 3
   },
   "file_extension": ".py",
   "mimetype": "text/x-python",
   "name": "python",
   "nbconvert_exporter": "python",
   "pygments_lexer": "ipython3",
   "version": "3.10.8"
  }
 },
 "nbformat": 4,
 "nbformat_minor": 2
}
