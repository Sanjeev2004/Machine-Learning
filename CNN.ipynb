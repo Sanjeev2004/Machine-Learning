{
 "cells": [
  {
   "cell_type": "code",
   "execution_count": 7,
   "metadata": {},
   "outputs": [
    {
     "name": "stdout",
     "output_type": "stream",
     "text": [
      "Convolution Output:\n",
      " [[2.2326171  1.62781507 1.94747831]\n",
      " [1.35447587 2.14446236 2.79582936]\n",
      " [2.51473061 2.85620876 3.12683821]]\n",
      "ReLU Output:\n",
      " [[2.2326171  1.62781507 1.94747831]\n",
      " [1.35447587 2.14446236 2.79582936]\n",
      " [2.51473061 2.85620876 3.12683821]]\n",
      "Max Pooling Output:\n",
      " [[2.2326171]]\n",
      "Fully Connected Layer Output:\n",
      " [1.87402266 2.05056682 1.75830006]\n"
     ]
    }
   ],
   "source": [
    "import numpy as np\n",
    "\n",
    "def conv2d(image, kernel, stride=1, padding=0):\n",
    "    image_padded = np.pad(image, ((padding, padding), (padding, padding)), mode='constant', constant_values=0)\n",
    "    kernel_height, kernel_width = kernel.shape\n",
    "    image_height, image_width = image_padded.shape\n",
    "    output_height = (image_height - kernel_height) // stride + 1\n",
    "    output_width = (image_width - kernel_width) // stride + 1\n",
    "    output = np.zeros((output_height, output_width))\n",
    "    \n",
    "    for i in range(0, output_height * stride, stride):\n",
    "        for j in range(0, output_width * stride, stride):\n",
    "            region = image_padded[i:i + kernel_height, j:j + kernel_width]\n",
    "            output[i // stride, j // stride] = np.sum(region * kernel)\n",
    "    \n",
    "    return output\n",
    "\n",
    "def relu(x):\n",
    "    return np.maximum(0, x)\n",
    "\n",
    "def max_pooling(image, size=2, stride=2):\n",
    "    output_height = (image.shape[0] - size) // stride + 1\n",
    "    output_width = (image.shape[1] - size) // stride + 1\n",
    "    output = np.zeros((output_height, output_width))\n",
    "    \n",
    "    for i in range(0, output_height * stride, stride):\n",
    "        for j in range(0, output_width * stride, stride):\n",
    "            region = image[i:i + size, j:j + size]\n",
    "            output[i // stride, j // stride] = np.max(region)\n",
    "    \n",
    "    return output\n",
    "\n",
    "def fully_connected_layer(input_vector, weights, bias):\n",
    "    return np.dot(input_vector, weights) + bias\n",
    "\n",
    "# Example usage\n",
    "if __name__ == \"__main__\":\n",
    "    image = np.random.rand(5, 5)\n",
    "    kernel = np.random.rand(3, 3)\n",
    "    \n",
    "    conv_output = conv2d(image, kernel)\n",
    "    relu_output = relu(conv_output)\n",
    "    pooled_output = max_pooling(relu_output)\n",
    "    \n",
    "    fc_weights = np.random.rand(pooled_output.size, 3)\n",
    "    fc_bias = np.random.rand(3)\n",
    "    fc_input = pooled_output.flatten()\n",
    "    fc_output = fully_connected_layer(fc_input, fc_weights, fc_bias)\n",
    "    \n",
    "    print(\"Convolution Output:\\n\", conv_output)\n",
    "    print(\"ReLU Output:\\n\", relu_output)\n",
    "    print(\"Max Pooling Output:\\n\", pooled_output)\n",
    "    print(\"Fully Connected Layer Output:\\n\", fc_output)\n"
   ]
  }
 ],
 "metadata": {
  "kernelspec": {
   "display_name": "Python 3",
   "language": "python",
   "name": "python3"
  },
  "language_info": {
   "codemirror_mode": {
    "name": "ipython",
    "version": 3
   },
   "file_extension": ".py",
   "mimetype": "text/x-python",
   "name": "python",
   "nbconvert_exporter": "python",
   "pygments_lexer": "ipython3",
   "version": "3.10.8"
  }
 },
 "nbformat": 4,
 "nbformat_minor": 2
}
