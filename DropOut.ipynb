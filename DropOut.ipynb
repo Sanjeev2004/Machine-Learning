{
 "cells": [
  {
   "cell_type": "code",
   "execution_count": null,
   "metadata": {},
   "outputs": [],
   "source": [
    "import tensorflow as tf\n",
    "\n",
    "model = tf.keras.Sequential([\n",
    "    tf.keras.layers.Dense(128, activation='relu'),\n",
    "    tf.keras.layers.Dropout(0.5),\n",
    "    tf.keras.layers.Dense(10, activation='softmax')\n",
    "])\n"
   ]
  },
  {
   "cell_type": "markdown",
   "metadata": {},
   "source": [
    "Droupout regularization\n"
   ]
  },
  {
   "cell_type": "markdown",
   "metadata": {},
   "source": [
    "<!-- ```markdown\n",
    "## Dropout Regularization\n",
    "\n",
    "Dropout is a regularization technique for reducing overfitting in neural networks by preventing complex co-adaptations on training data. It works by randomly setting a fraction of input units to 0 at each update during training time, which helps to break up situations where network units co-adapt too much.\n",
    "\n",
    "### Key Points:\n",
    "- **Purpose**: To reduce overfitting and improve generalization.\n",
    "- **How it works**: Randomly drops units (along with their connections) from the neural network during training.\n",
    "- **Implementation**: Typically implemented in layers of a neural network.\n",
    "\n",
    "### Benefits:\n",
    "- Helps prevent overfitting.\n",
    "- Encourages the network to learn more robust features.\n",
    "\n",
    "### Example:\n",
    "In a neural network layer, dropout can be applied as follows: ```\n",
    "In this example, `Dropout(0.5)` means that 50% of the input units are dropped randomly during training.\n",
    "```\n",
    "```python --> \n",
    "\n",
    "import tensorflow as tf\n",
    "\n",
    "model = tf.keras.Sequential([\n",
    "    tf.keras.layers.Dense(128, activation='relu'),\n",
    "    tf.keras.layers.Dropout(0.5),\n",
    "    tf.keras.layers.Dense(10, activation='softmax')\n",
    "])\n"
   ]
  }
 ],
 "metadata": {
  "kernelspec": {
   "display_name": "Python 3",
   "language": "python",
   "name": "python3"
  },
  "language_info": {
   "name": "python",
   "version": "3.10.8"
  }
 },
 "nbformat": 4,
 "nbformat_minor": 2
}
