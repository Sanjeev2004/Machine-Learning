{
 "cells": [
  {
   "cell_type": "code",
   "execution_count": 7,
   "metadata": {},
   "outputs": [],
   "source": [
    "import numpy as np\n",
    "import matplotlib.pyplot as plt\n",
    "import h5py\n",
    "\n",
    "%matplotlib inline"
   ]
  },
  {
   "cell_type": "code",
   "execution_count": 8,
   "metadata": {},
   "outputs": [
    {
     "name": "stdout",
     "output_type": "stream",
     "text": [
      "[[ 56.    0.    4.4  68. ]\n",
      " [  1.2 104.   52.    8. ]\n",
      " [  1.8 135.   99.    0.9]]\n"
     ]
    }
   ],
   "source": [
    "A=np.array([[56.0,0.0,4.4,68.0],\n",
    "            [1.2,104.0,52.0,8.0],\n",
    "[1.8,135.0,99.0,0.9]])\n",
    "print(A)"
   ]
  },
  {
   "cell_type": "code",
   "execution_count": 9,
   "metadata": {},
   "outputs": [
    {
     "name": "stdout",
     "output_type": "stream",
     "text": [
      "[ 59.  239.  155.4  76.9]\n"
     ]
    }
   ],
   "source": [
    "cal=A.sum(axis=0)\n",
    "print(cal)"
   ]
  },
  {
   "cell_type": "code",
   "execution_count": 10,
   "metadata": {},
   "outputs": [
    {
     "name": "stdout",
     "output_type": "stream",
     "text": [
      "[[94.91525424  0.          2.83140283 88.42652796]\n",
      " [ 2.03389831 43.51464435 33.46203346 10.40312094]\n",
      " [ 3.05084746 56.48535565 63.70656371  1.17035111]]\n"
     ]
    }
   ],
   "source": [
    "percentage=100*A/cal.reshape(1,4)\n",
    "print(percentage)"
   ]
  },
  {
   "cell_type": "code",
   "execution_count": 15,
   "metadata": {},
   "outputs": [
    {
     "name": "stdout",
     "output_type": "stream",
     "text": [
      "[[ -2.15317913  -1.8521329    0.66354238 ... -11.18909509  -6.13075496\n",
      "  -11.13495218]\n",
      " [  9.55064623 -13.36966399  15.66799909 ...  -8.54979134 -21.8894469\n",
      "  -21.49647548]\n",
      " [  3.89331687  -0.68086155  -5.60126166 ...  -2.83907816   6.62967767\n",
      "   25.67488545]\n",
      " ...\n",
      " [ -9.03115404  -2.21259049 -10.32199707 ...  -9.93400354 -13.30746579\n",
      "   10.48370282]\n",
      " [ -0.90186187  -3.5679763   12.56507168 ...  -3.32519252  -5.3998344\n",
      "    6.86929421]\n",
      " [  9.12965304  -5.92750148  -3.15727939 ...  23.22077161 -24.00668336\n",
      "  -12.8646017 ]]\n"
     ]
    },
    {
     "data": {
      "text/plain": [
       "(12288, 45)"
      ]
     },
     "execution_count": 15,
     "metadata": {},
     "output_type": "execute_result"
    }
   ],
   "source": [
    "a=np.random.randn(12288,150)\n",
    "b=np.random.randn(150,45)\n",
    "c=np.dot(a,b)\n",
    "print(c)\n",
    "c.shape"
   ]
  },
  {
   "cell_type": "code",
   "execution_count": 16,
   "metadata": {},
   "outputs": [
    {
     "ename": "ValueError",
     "evalue": "operands could not be broadcast together with shapes (12288,150) (150,45) ",
     "output_type": "error",
     "traceback": [
      "\u001b[1;31m---------------------------------------------------------------------------\u001b[0m",
      "\u001b[1;31mValueError\u001b[0m                                Traceback (most recent call last)",
      "Cell \u001b[1;32mIn[16], line 1\u001b[0m\n\u001b[1;32m----> 1\u001b[0m d\u001b[38;5;241m=\u001b[39m\u001b[43ma\u001b[49m\u001b[38;5;241;43m*\u001b[39;49m\u001b[43mb\u001b[49m\n",
      "\u001b[1;31mValueError\u001b[0m: operands could not be broadcast together with shapes (12288,150) (150,45) "
     ]
    }
   ],
   "source": [
    "d=a*b"
   ]
  },
  {
   "cell_type": "code",
   "execution_count": 30,
   "metadata": {},
   "outputs": [
    {
     "name": "stdout",
     "output_type": "stream",
     "text": [
      "a= [[-0.02029678 -0.51649965 -0.08624824 -0.47910596]\n",
      " [ 0.58965554  0.15616696 -0.42541283 -0.43281476]\n",
      " [-0.01119614  0.32914629  0.14741442  0.10483495]]\n",
      "b= [[-1.19601224]\n",
      " [-0.40062998]\n",
      " [ 0.17057945]\n",
      " [ 0.72085057]]\n",
      "[[ 0.0242752   0.20692525 -0.01471218 -0.34536381]\n",
      " [-0.70523524 -0.06256517 -0.07256669 -0.31199477]\n",
      " [ 0.01339072 -0.13186587  0.02514587  0.07557033]]\n",
      "[[ 0.0242752   0.20692525 -0.01471218 -0.34536381]\n",
      " [-0.70523524 -0.06256517 -0.07256669 -0.31199477]\n",
      " [ 0.01339072 -0.13186587  0.02514587  0.07557033]]\n"
     ]
    }
   ],
   "source": [
    "\n",
    "a=np.random.randn(3,4) # \n",
    "print(\"a=\",a)\n",
    "b=np.random.randn(4,1) # \n",
    "\n",
    "print(\"b=\",b)\n",
    "\n",
    "\n",
    "\n",
    "for i in range(3):\n",
    "\n",
    " for j in range(4):\n",
    "   c[i][j] = a[i][j]*b[j]\n",
    "d=a*b.T\n",
    "print(c)\n",
    "print(d)"
   ]
  },
  {
   "cell_type": "code",
   "execution_count": 31,
   "metadata": {},
   "outputs": [
    {
     "ename": "SyntaxError",
     "evalue": "invalid character '∗' (U+2217) (3678481329.py, line 6)",
     "output_type": "error",
     "traceback": [
      "\u001b[1;36m  Cell \u001b[1;32mIn[31], line 6\u001b[1;36m\u001b[0m\n\u001b[1;33m    c=a∗b\u001b[0m\n\u001b[1;37m       ^\u001b[0m\n\u001b[1;31mSyntaxError\u001b[0m\u001b[1;31m:\u001b[0m invalid character '∗' (U+2217)\n"
     ]
    }
   ],
   "source": [
    "\n",
    "a=np.random.randn(4,3) # \n",
    "\n",
    "b=np.random.randn(3,2) # \n",
    "\n",
    "\n",
    "c=a∗b"
   ]
  },
  {
   "cell_type": "code",
   "execution_count": null,
   "metadata": {},
   "outputs": [],
   "source": []
  }
 ],
 "metadata": {
  "kernelspec": {
   "display_name": "Python 3",
   "language": "python",
   "name": "python3"
  },
  "language_info": {
   "codemirror_mode": {
    "name": "ipython",
    "version": 3
   },
   "file_extension": ".py",
   "mimetype": "text/x-python",
   "name": "python",
   "nbconvert_exporter": "python",
   "pygments_lexer": "ipython3",
   "version": "3.10.8"
  }
 },
 "nbformat": 4,
 "nbformat_minor": 2
}
