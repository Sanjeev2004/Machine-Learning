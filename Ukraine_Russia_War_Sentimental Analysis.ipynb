{
 "cells": [
  {
   "cell_type": "code",
   "execution_count": null,
   "metadata": {},
   "outputs": [],
   "source": [
    "# Import Libraries\n",
    "\n",
    "from textblob import TextBlob\n",
    "import sys\n",
    "import matplotlib.pyplot as plt\n",
    "import pandas as pd\n",
    "import numpy as np\n",
    "import os\n",
    "import nltk\n",
    "import re\n",
    "import string\n",
    "import seaborn as sns\n",
    "\n",
    "\n",
    "from PIL import Image\n",
    "from nltk.sentiment.vader import SentimentIntensityAnalyzer\n",
    "from nltk.stem import SnowballStemmer\n",
    "from nltk.sentiment.vader import SentimentIntensityAnalyzer\n",
    "from sklearn.feature_extraction.text import CountVectorizer\n"
   ]
  },
  {
   "cell_type": "code",
   "execution_count": null,
   "metadata": {},
   "outputs": [],
   "source": [
    "# List of file paths\n",
    "file_paths = [\n",
    "    \"/ukraine-war-tweets-dataset-65-days/Russia_invade.csv\",\n",
    "    \"/ukraine-war-tweets-dataset-65-days/Russian_border_Ukraine.csv\",\n",
    "    \"/ukraine-war-tweets-dataset-65-days/Russian_troops.csv\",\n",
    "    \"/ukraine-war-tweets-dataset-65-days/StandWithUkraine.csv\",\n",
    "    \"/ukraine-war-tweets-dataset-65-days/Ukraine_border.csv\",\n",
    "    \"/ukraine-war-tweets-dataset-65-days/Ukraine_nato.csv\",\n",
    "    \"/ukraine-war-tweets-dataset-65-days/Ukraine_troops.csv\",\n",
    "    \"/ukraine-war-tweets-dataset-65-days/Ukraine_war.csv\"\n",
    "]\n",
    "\n",
    "# Load all CSV files into a single DataFrame\n",
    "tweets = pd.concat([pd.read_csv(file) for file in file_paths], ignore_index=True)\n"
   ]
  },
  {
   "cell_type": "code",
   "execution_count": null,
   "metadata": {},
   "outputs": [],
   "source": [
    "tweets.drop_duplicates(inplace=True)  # remove duplicates\n"
   ]
  },
  {
   "cell_type": "code",
   "execution_count": null,
   "metadata": {},
   "outputs": [],
   "source": [
    "# slicing the date , and removing the time portion\n",
    "tweets['date'] = tweets.date.str.slice(0, 10)\n"
   ]
  },
  {
   "cell_type": "code",
   "execution_count": null,
   "metadata": {},
   "outputs": [],
   "source": [
    "# checking all the unique dates in the dataset\n",
    "print(tweets['date'].unique())  \n",
    "\n",
    "# checking how many unique language\n",
    "# tweets are present in the dataset\n",
    "print(tweets[\"lang\"].unique())\n"
   ]
  },
  {
   "cell_type": "code",
   "execution_count": null,
   "metadata": {},
   "outputs": [],
   "source": [
    "# before removing the non-english tweets\n",
    "print(tweets.shape)\n",
    "\n",
    "# removing all the tweets expect the\n",
    "# non-english tweets\n",
    "tweets = tweets[tweets['lang'] == 'en']\n",
    "print(\"After removing non-english Tweets\")\n",
    "\n",
    "# only the number of english tweets\n",
    "print(tweets.shape)  \n"
   ]
  },
  {
   "cell_type": "code",
   "execution_count": null,
   "metadata": {},
   "outputs": [],
   "source": [
    "# Removing RT, Punctuation etc\n",
    "def remove_rt(x): return re.sub('RT @\\w+: ', \" \", x)\n",
    "\n",
    "def rt(x): return re.sub(\n",
    "    \"(@[A-Za-z0-9]+)|([^0-9A-Za-z \\t])|(\\w+:\\/\\/\\S+)\", \" \", x)\n",
    "\n",
    "tweets[\"content\"] = tweets.content.map(remove_rt).map(rt)\n",
    "tweets[\"content\"] = tweets.content.str.lower()\n"
   ]
  },
  {
   "cell_type": "code",
   "execution_count": null,
   "metadata": {},
   "outputs": [],
   "source": [
    "tweets[['polarity', 'subjectivity']] = tweets['content'].apply(\n",
    "    lambda Text: pd.Series(TextBlob(Text).sentiment))\n",
    "\n",
    "for index, row in tweets['content'].iteritems():\n",
    "    score = SentimentIntensityAnalyzer().polarity_scores(row)\n",
    "    neg = score['neg']\n",
    "    neu = score['neu']\n",
    "    pos = score['pos']\n",
    "    comp = score['compound']\n",
    "    \n",
    "    if neg > pos:\n",
    "        tweets.loc[index, 'sentiment'] = \"negative\"\n",
    "    elif pos > neg:\n",
    "        tweets.loc[index, 'sentiment'] = \"positive\"\n",
    "    else:\n",
    "        tweets.loc[index, 'sentiment'] = \"neutral\"\n",
    "        \n",
    "    tweets.loc[index, 'neg'] = neg\n",
    "    tweets.loc[index, 'neu'] = neu\n",
    "    tweets.loc[index, 'pos'] = pos\n",
    "    tweets.loc[index, 'compound'] = comp\n"
   ]
  },
  {
   "cell_type": "code",
   "execution_count": null,
   "metadata": {},
   "outputs": [],
   "source": [
    "tweets[[\"content\", \"sentiment\", \"polarity\",\n",
    "        \"subjectivity\", \"neg\", \"neu\", \"pos\"]].head(5)\n"
   ]
  },
  {
   "cell_type": "code",
   "execution_count": null,
   "metadata": {},
   "outputs": [],
   "source": [
    "total_pos = len(tweets.loc[tweets['sentiment'] == \"positive\"])\n",
    "total_neg = len(tweets.loc[tweets['sentiment'] == \"negative\"])\n",
    "total_neu = len(tweets.loc[tweets['sentiment'] == \"neutral\"])\n",
    "total_tweets = len(tweets)\n",
    "print(\"Total Positive Tweets % : {:.2f}\"\n",
    "      .format((total_pos/total_tweets)*100))\n",
    "print(\"Total Negative Tweets % : {:.2f}\"\n",
    "      .format((total_neg/total_tweets)*100))\n",
    "print(\"Total Neutral Tweets % : {:.2f}\"\n",
    "      .format((total_neu/total_tweets)*100))\n"
   ]
  },
  {
   "cell_type": "code",
   "execution_count": null,
   "metadata": {},
   "outputs": [],
   "source": [
    "mylabels = [\"Positive\", \"Negative\", \"Neutral\"]\n",
    "mycolors = [\"Green\", \"Red\", \"Blue\"]\n",
    "\n",
    "plt.figure(figsize=(8, 5),\n",
    "           dpi=600)  # Push new figure on stack\n",
    "myexplode = [0, 0.2, 0]\n",
    "plt.pie([total_pos, total_neg, total_neu], colors=mycolors,\n",
    "        labels=mylabels, explode=myexplode)\n",
    "plt.show()\n"
   ]
  },
  {
   "cell_type": "code",
   "execution_count": null,
   "metadata": {},
   "outputs": [],
   "source": [
    "pos_list = []\n",
    "neg_list = []\n",
    "neu_list = []\n",
    "for i in tweets[\"date\"].unique():\n",
    "    temp = tweets[tweets[\"date\"] == i]\n",
    "    positive_temp = temp[temp[\"sentiment\"] == \"positive\"]\n",
    "    negative_temp = temp[temp[\"sentiment\"] == \"negative\"]\n",
    "    neutral_temp = temp[temp[\"sentiment\"] == \"neutral\"]\n",
    "    pos_list.append(((positive_temp.shape[0]/temp.shape[0])*100, i))\n",
    "    neg_list.append(((negative_temp.shape[0]/temp.shape[0])*100, i))\n",
    "    neu_list.append(((neutral_temp.shape[0]/temp.shape[0])*100, i))\n",
    "\n",
    "neu_list = sorted(neu_list, key=lambda x: x[1])\n",
    "pos_list = sorted(pos_list, key=lambda x: x[1])\n",
    "neg_list = sorted(neg_list, key=lambda x: x[1])\n",
    "\n",
    "x_cord_neg = []\n",
    "y_cord_neg = []\n",
    "\n",
    "x_cord_pos = []\n",
    "y_cord_pos = []\n",
    "\n",
    "x_cord_neu = []\n",
    "y_cord_neu = []\n",
    "\n",
    "for i in neg_list:\n",
    "    x_cord_neg.append(i[0])\n",
    "    y_cord_neg.append(i[1])\n",
    "\n",
    "\n",
    "for i in pos_list:\n",
    "    x_cord_pos.append(i[0])\n",
    "    y_cord_pos.append(i[1])\n",
    "\n",
    "for i in neu_list:\n",
    "    x_cord_neu.append(i[0])\n",
    "    y_cord_neu.append(i[1])\n",
    "\n",
    "\n",
    "plt.figure(figsize=(16, 9),\n",
    "           dpi=600)  # Push new figure on stack\n",
    "plt.plot(y_cord_neg, x_cord_neg, label=\"negative\", \n",
    "         color=\"red\")\n",
    "plt.plot(y_cord_pos, x_cord_pos, label=\"positive\", \n",
    "         color=\"green\")\n",
    "plt.plot(y_cord_neu, x_cord_neu, label=\"neutral\", \n",
    "         color=\"blue\")\n",
    "plt.xticks(np.arange(0, len(tweets[\"date\"].unique()) + 1, 5))\n",
    "plt.xticks(rotation=90)\n",
    "plt.grid(axis='x')\n",
    "\n",
    "plt.legend()\n"
   ]
  },
  {
   "cell_type": "code",
   "execution_count": null,
   "metadata": {},
   "outputs": [],
   "source": []
  }
 ],
 "metadata": {
  "kernelspec": {
   "display_name": "Python 3",
   "language": "python",
   "name": "python3"
  },
  "language_info": {
   "codemirror_mode": {
    "name": "ipython",
    "version": 3
   },
   "file_extension": ".py",
   "mimetype": "text/x-python",
   "name": "python",
   "nbconvert_exporter": "python",
   "pygments_lexer": "ipython3",
   "version": "3.10.8"
  }
 },
 "nbformat": 4,
 "nbformat_minor": 2
}
